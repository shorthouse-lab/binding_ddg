{
 "cells": [
  {
   "cell_type": "code",
   "execution_count": 1,
   "id": "bbf80f5b",
   "metadata": {},
   "outputs": [],
   "source": [
    "import pandas as pd\n",
    "import matplotlib.pyplot as plt\n",
    "import matplotlib\n",
    "import seaborn as sns\n",
    "import numpy as np"
   ]
  },
  {
   "cell_type": "code",
   "execution_count": 2,
   "id": "22ad7c68",
   "metadata": {},
   "outputs": [],
   "source": [
    "DDG_data = pd.read_csv(\"./1BRS_DDG.txt\")"
   ]
  },
  {
   "cell_type": "code",
   "execution_count": 3,
   "id": "a685e8e1",
   "metadata": {},
   "outputs": [
    {
     "data": {
      "text/html": [
       "<div>\n",
       "<style scoped>\n",
       "    .dataframe tbody tr th:only-of-type {\n",
       "        vertical-align: middle;\n",
       "    }\n",
       "\n",
       "    .dataframe tbody tr th {\n",
       "        vertical-align: top;\n",
       "    }\n",
       "\n",
       "    .dataframe thead th {\n",
       "        text-align: right;\n",
       "    }\n",
       "</style>\n",
       "<table border=\"1\" class=\"dataframe\">\n",
       "  <thead>\n",
       "    <tr style=\"text-align: right;\">\n",
       "      <th></th>\n",
       "      <th>Mutation</th>\n",
       "      <th>WT_energy</th>\n",
       "      <th>MUT_energy</th>\n",
       "      <th>DDG</th>\n",
       "    </tr>\n",
       "  </thead>\n",
       "  <tbody>\n",
       "    <tr>\n",
       "      <th>0</th>\n",
       "      <td>RA87D</td>\n",
       "      <td>-14.9075</td>\n",
       "      <td>-11.3188</td>\n",
       "      <td>3.5887</td>\n",
       "    </tr>\n",
       "    <tr>\n",
       "      <th>1</th>\n",
       "      <td>RA87F</td>\n",
       "      <td>-14.4072</td>\n",
       "      <td>-12.3531</td>\n",
       "      <td>2.0541</td>\n",
       "    </tr>\n",
       "    <tr>\n",
       "      <th>2</th>\n",
       "      <td>RA87N</td>\n",
       "      <td>-14.4022</td>\n",
       "      <td>-11.7349</td>\n",
       "      <td>2.6673</td>\n",
       "    </tr>\n",
       "    <tr>\n",
       "      <th>3</th>\n",
       "      <td>RA87V</td>\n",
       "      <td>-14.4072</td>\n",
       "      <td>-11.8514</td>\n",
       "      <td>2.5558</td>\n",
       "    </tr>\n",
       "    <tr>\n",
       "      <th>4</th>\n",
       "      <td>RA87P</td>\n",
       "      <td>-14.4006</td>\n",
       "      <td>-11.9312</td>\n",
       "      <td>2.4694</td>\n",
       "    </tr>\n",
       "  </tbody>\n",
       "</table>\n",
       "</div>"
      ],
      "text/plain": [
       "  Mutation  WT_energy  MUT_energy     DDG\n",
       "0    RA87D   -14.9075    -11.3188  3.5887\n",
       "1    RA87F   -14.4072    -12.3531  2.0541\n",
       "2    RA87N   -14.4022    -11.7349  2.6673\n",
       "3    RA87V   -14.4072    -11.8514  2.5558\n",
       "4    RA87P   -14.4006    -11.9312  2.4694"
      ]
     },
     "execution_count": 3,
     "metadata": {},
     "output_type": "execute_result"
    }
   ],
   "source": [
    "DDG_data.head()"
   ]
  },
  {
   "cell_type": "code",
   "execution_count": 4,
   "id": "9791bcb7",
   "metadata": {},
   "outputs": [
    {
     "data": {
      "text/html": [
       "<div>\n",
       "<style scoped>\n",
       "    .dataframe tbody tr th:only-of-type {\n",
       "        vertical-align: middle;\n",
       "    }\n",
       "\n",
       "    .dataframe tbody tr th {\n",
       "        vertical-align: top;\n",
       "    }\n",
       "\n",
       "    .dataframe thead th {\n",
       "        text-align: right;\n",
       "    }\n",
       "</style>\n",
       "<table border=\"1\" class=\"dataframe\">\n",
       "  <thead>\n",
       "    <tr style=\"text-align: right;\">\n",
       "      <th></th>\n",
       "      <th>Mutation</th>\n",
       "      <th>WT_energy</th>\n",
       "      <th>MUT_energy</th>\n",
       "      <th>DDG</th>\n",
       "    </tr>\n",
       "  </thead>\n",
       "  <tbody>\n",
       "    <tr>\n",
       "      <th>64</th>\n",
       "      <td>HA102K</td>\n",
       "      <td>-14.3945</td>\n",
       "      <td>-11.8389</td>\n",
       "      <td>2.5556</td>\n",
       "    </tr>\n",
       "  </tbody>\n",
       "</table>\n",
       "</div>"
      ],
      "text/plain": [
       "   Mutation  WT_energy  MUT_energy     DDG\n",
       "64   HA102K   -14.3945    -11.8389  2.5556"
      ]
     },
     "execution_count": 4,
     "metadata": {},
     "output_type": "execute_result"
    }
   ],
   "source": [
    "## Get DDG for specific known destabilising mutation\n",
    "DDG_data[DDG_data[\"Mutation\"] == \"HA102K\"]"
   ]
  },
  {
   "cell_type": "code",
   "execution_count": 5,
   "id": "1e25c03c",
   "metadata": {},
   "outputs": [
    {
     "name": "stderr",
     "output_type": "stream",
     "text": [
      "<ipython-input-5-0077788f18b3>:2: SettingWithCopyWarning: \n",
      "A value is trying to be set on a copy of a slice from a DataFrame.\n",
      "Try using .loc[row_indexer,col_indexer] = value instead\n",
      "\n",
      "See the caveats in the documentation: https://pandas.pydata.org/pandas-docs/stable/user_guide/indexing.html#returning-a-view-versus-a-copy\n",
      "  damaging_mutants[\"Type\"] = \"HIS102\"\n"
     ]
    }
   ],
   "source": [
    "damaging_mutants = DDG_data[DDG_data[\"Mutation\"].isin([\"HA102K\", \"HA102D\", \"HA102Q\", \"HA102G\", \"HA102L\", \"HA102A\"])]\n",
    "damaging_mutants[\"Type\"] = \"HIS102\"\n",
    "\n",
    "DDG_data[\"Type\"] = \"Base\"\n",
    "\n",
    "combined = pd.concat([damaging_mutants, DDG_data], axis =0)"
   ]
  },
  {
   "cell_type": "code",
   "execution_count": 6,
   "id": "4ca10238",
   "metadata": {},
   "outputs": [],
   "source": [
    "testdist = pd.DataFrame([-1])\n",
    "testdist[\"Type\"] = \"Base\"\n",
    "testdist.columns = [\"DDG\", \"Type\"]\n",
    "\n",
    "combined2 = pd.concat([testdist, damaging_mutants])"
   ]
  },
  {
   "cell_type": "code",
   "execution_count": 7,
   "id": "68dbfaf9",
   "metadata": {},
   "outputs": [
    {
     "data": {
      "text/html": [
       "<div>\n",
       "<style scoped>\n",
       "    .dataframe tbody tr th:only-of-type {\n",
       "        vertical-align: middle;\n",
       "    }\n",
       "\n",
       "    .dataframe tbody tr th {\n",
       "        vertical-align: top;\n",
       "    }\n",
       "\n",
       "    .dataframe thead th {\n",
       "        text-align: right;\n",
       "    }\n",
       "</style>\n",
       "<table border=\"1\" class=\"dataframe\">\n",
       "  <thead>\n",
       "    <tr style=\"text-align: right;\">\n",
       "      <th></th>\n",
       "      <th>Mutation</th>\n",
       "      <th>WT_energy</th>\n",
       "      <th>MUT_energy</th>\n",
       "      <th>DDG</th>\n",
       "      <th>Type</th>\n",
       "    </tr>\n",
       "  </thead>\n",
       "  <tbody>\n",
       "    <tr>\n",
       "      <th>0</th>\n",
       "      <td>RA87D</td>\n",
       "      <td>-14.9075</td>\n",
       "      <td>-11.3188</td>\n",
       "      <td>3.5887</td>\n",
       "      <td>Base</td>\n",
       "    </tr>\n",
       "    <tr>\n",
       "      <th>1</th>\n",
       "      <td>RA87F</td>\n",
       "      <td>-14.4072</td>\n",
       "      <td>-12.3531</td>\n",
       "      <td>2.0541</td>\n",
       "      <td>Base</td>\n",
       "    </tr>\n",
       "    <tr>\n",
       "      <th>2</th>\n",
       "      <td>RA87N</td>\n",
       "      <td>-14.4022</td>\n",
       "      <td>-11.7349</td>\n",
       "      <td>2.6673</td>\n",
       "      <td>Base</td>\n",
       "    </tr>\n",
       "    <tr>\n",
       "      <th>3</th>\n",
       "      <td>RA87V</td>\n",
       "      <td>-14.4072</td>\n",
       "      <td>-11.8514</td>\n",
       "      <td>2.5558</td>\n",
       "      <td>Base</td>\n",
       "    </tr>\n",
       "    <tr>\n",
       "      <th>4</th>\n",
       "      <td>RA87P</td>\n",
       "      <td>-14.4006</td>\n",
       "      <td>-11.9312</td>\n",
       "      <td>2.4694</td>\n",
       "      <td>Base</td>\n",
       "    </tr>\n",
       "  </tbody>\n",
       "</table>\n",
       "</div>"
      ],
      "text/plain": [
       "  Mutation  WT_energy  MUT_energy     DDG  Type\n",
       "0    RA87D   -14.9075    -11.3188  3.5887  Base\n",
       "1    RA87F   -14.4072    -12.3531  2.0541  Base\n",
       "2    RA87N   -14.4022    -11.7349  2.6673  Base\n",
       "3    RA87V   -14.4072    -11.8514  2.5558  Base\n",
       "4    RA87P   -14.4006    -11.9312  2.4694  Base"
      ]
     },
     "execution_count": 7,
     "metadata": {},
     "output_type": "execute_result"
    }
   ],
   "source": [
    "DDG_data.head()"
   ]
  },
  {
   "cell_type": "code",
   "execution_count": 8,
   "id": "7f70b7b1",
   "metadata": {},
   "outputs": [
    {
     "name": "stderr",
     "output_type": "stream",
     "text": [
      "*c* argument looks like a single numeric RGB or RGBA sequence, which should be avoided as value-mapping will have precedence in case its length matches with *x* & *y*.  Please use the *color* keyword-argument or provide a 2D array with a single row if you intend to specify the same RGB or RGBA value for all points.\n",
      "<ipython-input-8-936437a320c8>:10: UserWarning: FixedFormatter should only be used together with FixedLocator\n",
      "  g.set_xticklabels([0,-4, -2,0,2,4,6,8,10,12], size = 14)\n"
     ]
    },
    {
     "data": {
      "image/png": "[encoded data removed]",
      "text/plain": [
       "<Figure size 640x480 with 1 Axes>"
      ]
     },
     "metadata": {},
     "output_type": "display_data"
    }
   ],
   "source": [
    "g = sns.distplot(DDG_data[\"DDG\"], norm_hist=True, bins = 100, kde = False, color = sns.color_palette(\"Set3\")[4])\n",
    "g2 = sns.kdeplot(DDG_data[\"DDG\"], bw = 0.25, color = sns.color_palette(\"Set1\")[1], alpha = 1, legend=False\n",
    "                ,lw = 3)\n",
    "\n",
    "g3 = plt.scatter(2.56, 0.04, alpha = 1, s = 70, c = sns.color_palette(\"Set3\")[3], zorder = 2)\n",
    "sns.despine()\n",
    "\n",
    "g.set_yticks([])\n",
    "g.set_xlabel(\"Binding DDG (Kcal/mol)\", size = 14)\n",
    "g.set_xticklabels([0,-4, -2,0,2,4,6,8,10,12], size = 14)\n",
    "\n",
    "g.axvline(2.2, c = \"k\", lw = 1)\n",
    "g.annotate(\"Top 5%\", (2.5, 2), size = 14)\n",
    "\n",
    "plt.savefig(\"Barnase_HIS102LYS_v2.pdf\")\n",
    "plt.show()"
   ]
  },
  {
   "cell_type": "code",
   "execution_count": 9,
   "id": "a43dd9be",
   "metadata": {},
   "outputs": [
    {
     "data": {
      "text/plain": [
       "2.2004500000000005"
      ]
     },
     "execution_count": 9,
     "metadata": {},
     "output_type": "execute_result"
    }
   ],
   "source": [
    "## Calculate the top 5th percentile cutoff\n",
    "np.percentile(DDG_data[\"DDG\"], 95)"
   ]
  },
  {
   "cell_type": "code",
   "execution_count": 10,
   "id": "b1f92673",
   "metadata": {},
   "outputs": [],
   "source": [
    "import scipy.stats"
   ]
  },
  {
   "cell_type": "code",
   "execution_count": 11,
   "id": "63832242",
   "metadata": {},
   "outputs": [
    {
     "data": {
      "text/plain": [
       "Ttest_indResult(statistic=-8.05983543080369, pvalue=2.274048444470727e-15)"
      ]
     },
     "execution_count": 11,
     "metadata": {},
     "output_type": "execute_result"
    }
   ],
   "source": [
    "## To the t-test\n",
    "scipy.stats.ttest_ind(DDG_data[\"DDG\"], damaging_mutants[\"DDG\"])"
   ]
  },
  {
   "cell_type": "code",
   "execution_count": 12,
   "id": "e968a147",
   "metadata": {},
   "outputs": [
    {
     "data": {
      "image/png": "[encoded data removed]",
      "text/plain": [
       "<Figure size 640x480 with 1 Axes>"
      ]
     },
     "metadata": {},
     "output_type": "display_data"
    }
   ],
   "source": [
    "fig, ax = plt.subplots()\n",
    "\n",
    "PROPS = {\n",
    "    'boxprops':{'edgecolor':'black'},\n",
    "    'medianprops':{'color':'black'},\n",
    "    'whiskerprops':{'color':'black'},\n",
    "    'capprops':{'color':'black'}\n",
    "}\n",
    "\n",
    "g2 = sns.stripplot(data = combined2, x = \"Type\", y = \"DDG\"\n",
    "                   , palette=[\"w\", sns.color_palette(\"Set3\")[3]], size = 10, order = [\"Base\", \"HIS102\"], zorder = 2)\n",
    "\n",
    "g = sns.boxplot(x = combined[\"Type\"], y = combined[\"DDG\"], order= [\"Base\", \"HIS102\"]\n",
    "               ,** PROPS, palette= [sns.color_palette(\"Set3\")[4], \"white\"], zorder = 1, showfliers = False)\n",
    "for patch in ax.patches:\n",
    "    r, g1, b, a = patch.get_facecolor()\n",
    "    patch.set_facecolor((r, g1, b, 0.6))\n",
    "#g.set_yscale(\"symlog\")\n",
    "\n",
    "g.set_ylim(-2,6)\n",
    "\n",
    "    \n",
    "#g2 = sns.\n",
    "\n",
    "g.set_xticklabels([\"All mutations\", \"Jucovic HIS102 mutations\"], size = 14)\n",
    "g.set_xlabel(\"\")\n",
    "g.set_ylabel(\"Binding DDG (kcal/mol)\", size =14)\n",
    "g.set_yticks([-2,0,2,4,6])\n",
    "g.set_yticklabels([-2,0,2,4,6], size = 14)\n",
    "\n",
    "x1, x2 = 0, 1  \n",
    "y, h, col = 5.5, 0, 'k'\n",
    "plt.plot([x1, x1, x2, x2], [y, y+h, y+h, y], lw=1.5, c=col)\n",
    "plt.text((x1+x2)*.5, y+h+0.4, \"p = 2.27e-15\", ha='center', va='bottom', color=col, size = 14)\n",
    "\n",
    "\n",
    "sns.despine()\n",
    "\n",
    "plt.savefig(\"BindingDDG_HISmutationsgroup.pdf\")\n",
    "plt.show()"
   ]
  }
 ],
 "metadata": {
  "kernelspec": {
   "display_name": "Python 3",
   "language": "python",
   "name": "python3"
  },
  "language_info": {
   "codemirror_mode": {
    "name": "ipython",
    "version": 3
   },
   "file_extension": ".py",
   "mimetype": "text/x-python",
   "name": "python",
   "nbconvert_exporter": "python",
   "pygments_lexer": "ipython3",
   "version": "3.8.3"
  }
 },
 "nbformat": 4,
 "nbformat_minor": 5
}
