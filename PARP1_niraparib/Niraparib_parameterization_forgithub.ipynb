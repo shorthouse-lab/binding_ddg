{
 "cells": [
  {
   "cell_type": "code",
   "execution_count": 1,
   "id": "2086a154",
   "metadata": {},
   "outputs": [],
   "source": [
    "from pyfoldx.handlers.fileHandler import FileHandler\n",
    "from pyfoldx.structure import Structure\n",
    "from pyfoldx.paramx import parameterize, JSonMolecule\n",
    "\n",
    "# To display images and graphics\n",
    "from IPython.core import display\n",
    "import seaborn as sns\n",
    "\n",
    "import pandas as pd\n",
    "import argparse\n",
    "from collections import defaultdict\n",
    "import simplejson\n",
    "\n",
    "\n",
    "#### This code needs a copy of \"rotabase.txt\" provided by FoldX to be in the folder it is run ####\n",
    "### If you are getting the error: \"JSONDecodeError: Expecting value: line 1 column 1 (char 0)\" ###\n",
    "## This is why. ##"
   ]
  },
  {
   "cell_type": "code",
   "execution_count": 2,
   "id": "de6c6a8a",
   "metadata": {},
   "outputs": [],
   "source": [
    "## We load the structure\n",
    "st = Structure(code = \"Nira\", path=\"./4r6e_niraparibonly.pdb\")"
   ]
  },
  {
   "cell_type": "code",
   "execution_count": 3,
   "id": "850de538",
   "metadata": {},
   "outputs": [
    {
     "name": "stdout",
     "output_type": "stream",
     "text": [
      "Residue(3JD,1101,D,True)\n"
     ]
    }
   ],
   "source": [
    "## We check the IDs for the ligand\n",
    "for chain in st.data.keys():\n",
    "    for residue in st.data[chain]:\n",
    "        if st.data[chain][residue].code == \"3JD\":\n",
    "            print( st.data[chain][residue] )"
   ]
  },
  {
   "cell_type": "code",
   "execution_count": 4,
   "id": "337145c6",
   "metadata": {},
   "outputs": [
    {
     "data": {
      "text/plain": [
       "['HETATM11107  CAM 3JD D1101    -126.778  30.625  24.363  1.00 52.21           C  ',\n",
       " 'HETATM11108  CAK 3JD D1101    -127.310  29.537  25.347  1.00 52.28           C  ',\n",
       " 'HETATM11109  CAL 3JD D1101    -126.523  29.642  26.657  1.00 51.99           C  ',\n",
       " 'HETATM11110  NAP 3JD D1101    -125.091  29.400  26.352  1.00 51.03           N  ',\n",
       " 'HETATM11111  CAN 3JD D1101    -124.501  30.364  25.387  1.00 49.21           C  ',\n",
       " 'HETATM11112  CAW 3JD D1101    -125.272  30.414  24.055  1.00 48.86           C  ',\n",
       " 'HETATM11113  CAR 3JD D1101    -124.545  31.182  23.067  1.00 44.91           C  ',\n",
       " 'HETATM11114  CAF 3JD D1101    -124.401  30.661  21.731  1.00 42.78           C  ',\n",
       " 'HETATM11115  CAH 3JD D1101    -123.731  31.428  20.743  1.00 41.69           C  ',\n",
       " 'HETATM11116  CAE 3JD D1101    -123.945  32.431  23.410  1.00 40.47           C  ',\n",
       " 'HETATM11117  CAG 3JD D1101    -123.160  33.164  22.452  1.00 39.79           C  ',\n",
       " 'HETATM11118  CAS 3JD D1101    -122.999  32.625  21.089  1.00 39.39           C  ',\n",
       " 'HETATM11119  NAX 3JD D1101    -122.315  33.297  20.122  1.00 33.85           N  ',\n",
       " 'HETATM11120  CAJ 3JD D1101    -122.611  33.295  18.782  1.00 31.55           C  ',\n",
       " 'HETATM11121  NAO 3JD D1101    -121.503  34.183  20.308  1.00 31.80           N  ',\n",
       " 'HETATM11122  CAV 3JD D1101    -120.979  34.723  19.216  1.00 32.01           C  ',\n",
       " 'HETATM11123  CAU 3JD D1101    -121.730  34.153  18.165  1.00 33.59           C  ',\n",
       " 'HETATM11124  CAI 3JD D1101    -121.460  34.496  16.833  1.00 31.72           C  ',\n",
       " 'HETATM11125  CAC 3JD D1101    -120.410  35.415  16.530  1.00 33.22           C  ',\n",
       " 'HETATM11126  CAD 3JD D1101    -119.674  36.002  17.644  1.00 34.19           C  ',\n",
       " 'HETATM11127  CAT 3JD D1101    -119.957  35.644  19.012  1.00 32.02           C  ',\n",
       " 'HETATM11128  CAQ 3JD D1101    -119.170  36.221  20.046  1.00 33.43           C  ',\n",
       " 'HETATM11129  OAB 3JD D1101    -118.327  37.063  19.829  1.00 34.96           O  ',\n",
       " 'HETATM11130  NAA 3JD D1101    -119.338  35.839  21.284  1.00 35.65           N  ']"
      ]
     },
     "execution_count": 4,
     "metadata": {},
     "output_type": "execute_result"
    }
   ],
   "source": [
    "## We collect all the lines in the pdb corresponding to the ligand and print them out\n",
    "glcLines = st.data[\"D\"][1101].toPdb().split(\"\\n\")\n",
    "glcLines"
   ]
  },
  {
   "cell_type": "markdown",
   "id": "bc697446",
   "metadata": {},
   "source": [
    "#### You now need to assign each atom in the ligand to an atomtype that foldx recognises. We did this manually based on the table below"
   ]
  },
  {
   "cell_type": "code",
   "execution_count": 7,
   "id": "cc961ed5",
   "metadata": {},
   "outputs": [],
   "source": [
    "## Taken from the code for pyfoldx: \n",
    "## https://github.com/leandroradusky/pyFoldX/blob/master/notebooks/paramX_AtomNames.ipynb\n",
    "\n",
    "#if atom == \"O_hydroxyl\": return ( \"OG\" , \"SER\" )\n",
    "#elif atom ==\"O_ring\": return ( \"O4*\" , \"A\" )\n",
    "#elif atom ==\"O_minus\": return ( \"OD1\" , \"ASP\" )\n",
    "#elif atom ==\"O_carboxamide\": return ( \"OD1\" , \"ASN\" )\n",
    "#elif atom ==\"N_amino\": return ( \"NZ\" , \"LYS\" )\n",
    "#elif atom ==\"N_guanidino\": return ( \"NH2\" , \"ARG\" )\n",
    "#elif atom ==\"N_imidazol_plus\": return ( \"ND1\" , \"HIS\" )\n",
    "#elif atom ==\"N_imidazol_minus\": return ( \"NE2\" , \"HIS\" )\n",
    "#elif atom ==\"N_pyrazole\": return ( \"N\" , \"PRO\" )\n",
    "#elif atom ==\"N_amide\": return ( \"ND2\" , \"ASP\" )\n",
    "#elif atom ==\"C_ring_not_arom\": return ( \"CG\" , \"PRO\" )\n",
    "#elif atom ==\"C_ring_arom\": return ( \"CZ\" , \"PHE\" )\n",
    "#elif atom ==\"C_single_link\": return ( \"CG2\" , \"THR\" )\n",
    "#elif atom ==\"C_double_link\": return ( \"CG\" , \"ARG\" )\n",
    "#elif atom ==\"C_triple_link\": return ( \"CG\" , \"LEU\" )\n"
   ]
  },
  {
   "cell_type": "code",
   "execution_count": 11,
   "id": "d6b6f30f",
   "metadata": {},
   "outputs": [
    {
     "data": {
      "text/plain": [
       "{'NAA': 'N_amino',\n",
       " 'OAB': 'O_carboxamide',\n",
       " 'CAQ': 'C_triple_link',\n",
       " 'CAT': 'C_ring_not_arom',\n",
       " 'CAD': 'C_ring_not_arom',\n",
       " 'CAV': 'C_ring_not_arom',\n",
       " 'CAC': 'C_ring_not_arom',\n",
       " 'CAI': 'C_ring_not_arom',\n",
       " 'CAJ': 'C_ring_not_arom',\n",
       " 'CAU': 'C_ring_not_arom',\n",
       " 'NAO': 'N_imidazol_plus',\n",
       " 'NAX': 'N_imidazol_plus',\n",
       " 'CAS': 'C_ring_arom',\n",
       " 'CAG': 'C_ring_arom',\n",
       " 'CAH': 'C_ring_arom',\n",
       " 'CAF': 'C_ring_arom',\n",
       " 'CAE': 'C_ring_arom',\n",
       " 'CAR': 'C_ring_arom',\n",
       " 'CAW': 'C_ring_not_arom',\n",
       " 'CAM': 'C_ring_not_arom',\n",
       " 'CAN': 'C_ring_not_arom',\n",
       " 'CAK': 'C_ring_not_arom',\n",
       " 'CAL': 'C_ring_not_arom',\n",
       " 'NAP': 'N_amino'}"
      ]
     },
     "execution_count": 11,
     "metadata": {},
     "output_type": "execute_result"
    }
   ],
   "source": [
    "## We read in the csv file containing the atom assignments and create a dictionary\n",
    "niraparib_parameters = pd.read_csv(\"./Niraparib_parameters.csv\")\n",
    "\n",
    "niraparib_dictionary = dict(zip(niraparib_parameters['Atom'], niraparib_parameters['Assignment']))\n",
    "\n",
    "niraparib_dictionary"
   ]
  },
  {
   "cell_type": "code",
   "execution_count": 12,
   "id": "2ad833f9",
   "metadata": {},
   "outputs": [
    {
     "name": "stdout",
     "output_type": "stream",
     "text": [
      "Mappings loaded:\n",
      "Atom NAA mapped to atom ('NZ', 'LYS')\n",
      "Atom OAB mapped to atom ('OD1', 'ASN')\n",
      "Atom CAQ mapped to atom ('CG', 'LEU')\n",
      "Atom CAT mapped to atom ('CG', 'PRO')\n",
      "Atom CAD mapped to atom ('CG', 'PRO')\n",
      "Atom CAV mapped to atom ('CG', 'PRO')\n",
      "Atom CAC mapped to atom ('CG', 'PRO')\n",
      "Atom CAI mapped to atom ('CG', 'PRO')\n",
      "Atom CAJ mapped to atom ('CG', 'PRO')\n",
      "Atom CAU mapped to atom ('CG', 'PRO')\n",
      "Atom NAO mapped to atom ('ND1', 'HIS')\n",
      "Atom NAX mapped to atom ('ND1', 'HIS')\n",
      "Atom CAS mapped to atom ('CZ', 'PHE')\n",
      "Atom CAG mapped to atom ('CZ', 'PHE')\n",
      "Atom CAH mapped to atom ('CZ', 'PHE')\n",
      "Atom CAF mapped to atom ('CZ', 'PHE')\n",
      "Atom CAE mapped to atom ('CZ', 'PHE')\n",
      "Atom CAR mapped to atom ('CZ', 'PHE')\n",
      "Atom CAW mapped to atom ('CG', 'PRO')\n",
      "Atom CAM mapped to atom ('CG', 'PRO')\n",
      "Atom CAN mapped to atom ('CG', 'PRO')\n",
      "Atom CAK mapped to atom ('CG', 'PRO')\n",
      "Atom CAL mapped to atom ('CG', 'PRO')\n",
      "Atom NAP mapped to atom ('NZ', 'LYS')\n"
     ]
    }
   ],
   "source": [
    "## We run the parameterization - make sure the rotabase.txt file is present\n",
    "niraparaib = parameterize(glcLines, niraparib_dictionary)"
   ]
  },
  {
   "cell_type": "code",
   "execution_count": 13,
   "id": "9550bb77",
   "metadata": {},
   "outputs": [
    {
     "data": {
      "text/plain": [
       "<pyfoldx.paramx.paramx.JSonMolecule at 0x7f9a2dc56310>"
      ]
     },
     "execution_count": 13,
     "metadata": {},
     "output_type": "execute_result"
    }
   ],
   "source": [
    "## Check the molecule is a json\n",
    "niraparaib"
   ]
  },
  {
   "cell_type": "code",
   "execution_count": 14,
   "id": "d7d5be59",
   "metadata": {},
   "outputs": [
    {
     "data": {
      "text/plain": [
       "True"
      ]
     },
     "execution_count": 14,
     "metadata": {},
     "output_type": "execute_result"
    }
   ],
   "source": [
    "## We keep the same residue name as in the pdb file, and print the parameters to 3JD.json\n",
    "## This file needs to be places in the \"molecules\" folder in the directory that you run any FoldX \n",
    "FileHandler.writeLine(\"./3JD.json\", niraparaib.toJson())"
   ]
  },
  {
   "cell_type": "code",
   "execution_count": null,
   "id": "d66204af",
   "metadata": {},
   "outputs": [],
   "source": []
  }
 ],
 "metadata": {
  "kernelspec": {
   "display_name": "Python 3",
   "language": "python",
   "name": "python3"
  },
  "language_info": {
   "codemirror_mode": {
    "name": "ipython",
    "version": 3
   },
   "file_extension": ".py",
   "mimetype": "text/x-python",
   "name": "python",
   "nbconvert_exporter": "python",
   "pygments_lexer": "ipython3",
   "version": "3.8.3"
  }
 },
 "nbformat": 4,
 "nbformat_minor": 5
}
